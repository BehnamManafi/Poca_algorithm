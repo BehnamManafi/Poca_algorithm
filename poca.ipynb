{
 "cells": [
  {
   "cell_type": "code",
   "execution_count": 1,
   "metadata": {},
   "outputs": [],
   "source": [
    "import numpy as np"
   ]
  },
  {
   "cell_type": "code",
   "execution_count": 2,
   "metadata": {},
   "outputs": [],
   "source": [
    "def poca_algorithm(line1_start, line1_dir, line2_start, line2_dir):\n",
    "    # Normalize the direction vectors\n",
    "    line1_dir_norm = line1_dir / np.linalg.norm(line1_dir)\n",
    "    line2_dir_norm = line2_dir / np.linalg.norm(line2_dir)\n",
    "    \n",
    "    # Calculate the vector connecting the start points of the lines\n",
    "    start_vector = line2_start - line1_start\n",
    "    \n",
    "    # Construct the coefficient matrix\n",
    "    coefficient_matrix = np.vstack((line1_dir_norm, -line2_dir_norm)).T\n",
    "    \n",
    "    # Solve the linear equations to find the parameters\n",
    "    params = np.linalg.lstsq(coefficient_matrix, start_vector, rcond=None)[0]\n",
    "    \n",
    "    # Calculate the points of closest approach\n",
    "    poca_line1 = line1_start + params[0] * line1_dir_norm\n",
    "    poca_line2 = line2_start + params[1] * line2_dir_norm\n",
    "    \n",
    "    # Calculate the coordinates of closest approach\n",
    "    closest_approach = (poca_line1 + poca_line2) / 2.0\n",
    "    \n",
    "    return closest_approach\n"
   ]
  },
  {
   "cell_type": "code",
   "execution_count": 4,
   "metadata": {},
   "outputs": [
    {
     "data": {
      "text/plain": [
       "array([8.88178420e-16, 0.00000000e+00, 1.83947774e-16])"
      ]
     },
     "execution_count": 4,
     "metadata": {},
     "output_type": "execute_result"
    }
   ],
   "source": [
    "# line1_start = np.array([1, 2, 3])\n",
    "line1_start = np.array([0, 0, 0])\n",
    "line1_dir = np.array([0, 0, -1])\n",
    "line2_start = np.array([10,0,-10])\n",
    "line2_dir = np.array([1,0,-1])\n",
    "\n",
    "closest_approach = poca_algorithm(line1_start, line1_dir, line2_start, line2_dir)\n",
    "closest_approach\n"
   ]
  }
 ],
 "metadata": {
  "kernelspec": {
   "display_name": "base",
   "language": "python",
   "name": "python3"
  },
  "language_info": {
   "codemirror_mode": {
    "name": "ipython",
    "version": 3
   },
   "file_extension": ".py",
   "mimetype": "text/x-python",
   "name": "python",
   "nbconvert_exporter": "python",
   "pygments_lexer": "ipython3",
   "version": "3.9.12"
  },
  "orig_nbformat": 4
 },
 "nbformat": 4,
 "nbformat_minor": 2
}
